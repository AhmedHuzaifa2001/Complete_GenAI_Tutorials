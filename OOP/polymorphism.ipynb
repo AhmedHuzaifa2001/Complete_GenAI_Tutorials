{
 "cells": [
  {
   "cell_type": "code",
   "execution_count": 1,
   "id": "8b204f4f",
   "metadata": {},
   "outputs": [],
   "source": [
    "class Animal:\n",
    "    def speak(self):\n",
    "        return \"Sound of the Animal\""
   ]
  },
  {
   "cell_type": "code",
   "execution_count": 2,
   "id": "d9edb62e",
   "metadata": {},
   "outputs": [],
   "source": [
    "class Dog(Animal):\n",
    "    def speak(self):\n",
    "        return \"Woof!\"  # Method Overriding\n",
    "    \n",
    "\n",
    "class Cat(Animal):\n",
    "    def speak(self):\n",
    "        return \"Meow!\""
   ]
  },
  {
   "cell_type": "code",
   "execution_count": 4,
   "id": "454d626a",
   "metadata": {},
   "outputs": [
    {
     "data": {
      "text/plain": [
       "'Woof!'"
      ]
     },
     "execution_count": 4,
     "metadata": {},
     "output_type": "execute_result"
    }
   ],
   "source": [
    "dog1 = Dog()\n",
    "dog1.speak()"
   ]
  },
  {
   "cell_type": "code",
   "execution_count": 6,
   "id": "33827efe",
   "metadata": {},
   "outputs": [
    {
     "data": {
      "text/plain": [
       "'Meow!'"
      ]
     },
     "execution_count": 6,
     "metadata": {},
     "output_type": "execute_result"
    }
   ],
   "source": [
    "cat1 = Cat()\n",
    "cat1.speak()"
   ]
  },
  {
   "cell_type": "code",
   "execution_count": 9,
   "id": "e6503365",
   "metadata": {},
   "outputs": [
    {
     "name": "stdout",
     "output_type": "stream",
     "text": [
      "Woof!\n",
      "Meow!\n"
     ]
    }
   ],
   "source": [
    "# Function Implementing polymorphism\n",
    "\n",
    "def animal_speak(animal):\n",
    "    print(animal.speak())\n",
    "\n",
    "\n",
    "animal_speak(dog1)\n",
    "animal_speak(cat1)"
   ]
  },
  {
   "cell_type": "code",
   "execution_count": 17,
   "id": "cbbd4efb",
   "metadata": {},
   "outputs": [],
   "source": [
    "class Shape:\n",
    "    def area(self):\n",
    "        return \"Area of the figure\"\n",
    "    \n",
    "\n",
    "class Rectangle(Shape):\n",
    "    def __init__(self , width , height):\n",
    "        self.width = width\n",
    "        self.height = height\n",
    "\n",
    "    def area(self):\n",
    "        return self.width*self.height\n",
    "    \n",
    "\n",
    "class Circle(Shape):\n",
    "    def __init__(self , radius):\n",
    "        self.radius = radius\n",
    "\n",
    "    def area(self):\n",
    "        return 3.14*self.radius*self.radius\n",
    "    \n",
    "\n",
    "\n",
    "def area_cal(shape):\n",
    "    print(f\"Area is {shape.area()}\")"
   ]
  },
  {
   "cell_type": "code",
   "execution_count": 19,
   "id": "856bf9eb",
   "metadata": {},
   "outputs": [
    {
     "name": "stdout",
     "output_type": "stream",
     "text": [
      "Area is 250\n",
      "Area is 153.86\n"
     ]
    }
   ],
   "source": [
    "rectangle = Rectangle(10 , 25)\n",
    "area_cal(rectangle)\n",
    "\n",
    "circle = Circle(7)\n",
    "area_cal(circle)"
   ]
  },
  {
   "cell_type": "code",
   "execution_count": 23,
   "id": "de62a2bb",
   "metadata": {},
   "outputs": [],
   "source": [
    "# Interfaces or Abstarct Base Classes\n",
    "\n",
    "from abc import ABC , abstractclassmethod\n",
    "\n",
    "class Vehicle(ABC):\n",
    "    def startEngine(self):\n",
    "        pass\n",
    "\n",
    "class Car(Vehicle):\n",
    "    def startEngine(self):\n",
    "        return \"Car Engine started\"\n",
    "    \n",
    "class Motorcycle(Vehicle):\n",
    "    def startEngine(self):\n",
    "        return \"Motorcycle Engine started\"\n",
    "    \n",
    "def start_vehicle(vehicle):\n",
    "    print(vehicle.startEngine())"
   ]
  },
  {
   "cell_type": "code",
   "execution_count": 25,
   "id": "373db614",
   "metadata": {},
   "outputs": [
    {
     "name": "stdout",
     "output_type": "stream",
     "text": [
      "Car Engine started\n",
      "Motorcycle Engine started\n"
     ]
    }
   ],
   "source": [
    "car1 = Car()\n",
    "motorcycle = Motorcycle()\n",
    "\n",
    "start_vehicle(car1)\n",
    "start_vehicle(motorcycle)"
   ]
  }
 ],
 "metadata": {
  "kernelspec": {
   "display_name": "myenv",
   "language": "python",
   "name": "python3"
  },
  "language_info": {
   "codemirror_mode": {
    "name": "ipython",
    "version": 3
   },
   "file_extension": ".py",
   "mimetype": "text/x-python",
   "name": "python",
   "nbconvert_exporter": "python",
   "pygments_lexer": "ipython3",
   "version": "3.10.18"
  }
 },
 "nbformat": 4,
 "nbformat_minor": 5
}
