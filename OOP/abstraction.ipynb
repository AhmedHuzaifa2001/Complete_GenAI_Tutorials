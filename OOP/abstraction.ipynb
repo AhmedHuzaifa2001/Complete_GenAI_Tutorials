{
 "cells": [
  {
   "cell_type": "markdown",
   "id": "f07ed315",
   "metadata": {},
   "source": [
    "Implementing Abstraction in Python\n",
    "\n",
    "To understand abstraction in code, the ABC module is imported. This module is used for creating abstract classes."
   ]
  },
  {
   "cell_type": "code",
   "execution_count": 16,
   "id": "eb0d527d",
   "metadata": {},
   "outputs": [],
   "source": [
    "from abc import ABC, abstractmethod"
   ]
  },
  {
   "cell_type": "code",
   "execution_count": 17,
   "id": "01403f00",
   "metadata": {},
   "outputs": [],
   "source": [
    "# Abstract Class\n",
    "class Vehicle(ABC):\n",
    "    def drive(self):\n",
    "        print(\"The vehicle is used for driving.\")\n",
    "\n",
    "    @abstractmethod\n",
    "    def start_engine(self):\n",
    "        pass"
   ]
  },
  {
   "cell_type": "code",
   "execution_count": 18,
   "id": "bac9de72",
   "metadata": {},
   "outputs": [],
   "source": [
    "class Car(Vehicle):\n",
    "    def start_engine(self):\n",
    "        print(\"Car engine started.\")"
   ]
  },
  {
   "cell_type": "code",
   "execution_count": 19,
   "id": "be70e2f9",
   "metadata": {},
   "outputs": [],
   "source": [
    "def operate_vehicle(vehicle):\n",
    "    vehicle.start_engine()"
   ]
  },
  {
   "cell_type": "code",
   "execution_count": 20,
   "id": "45290244",
   "metadata": {},
   "outputs": [
    {
     "name": "stdout",
     "output_type": "stream",
     "text": [
      "Car engine started.\n"
     ]
    }
   ],
   "source": [
    "car = Car()\n",
    "operate_vehicle(car)"
   ]
  },
  {
   "cell_type": "code",
   "execution_count": 21,
   "id": "ee01d770",
   "metadata": {},
   "outputs": [
    {
     "name": "stdout",
     "output_type": "stream",
     "text": [
      "The vehicle is used for driving.\n"
     ]
    }
   ],
   "source": [
    "car.drive()"
   ]
  }
 ],
 "metadata": {
  "kernelspec": {
   "display_name": "myenv",
   "language": "python",
   "name": "python3"
  },
  "language_info": {
   "codemirror_mode": {
    "name": "ipython",
    "version": 3
   },
   "file_extension": ".py",
   "mimetype": "text/x-python",
   "name": "python",
   "nbconvert_exporter": "python",
   "pygments_lexer": "ipython3",
   "version": "3.10.18"
  }
 },
 "nbformat": 4,
 "nbformat_minor": 5
}
