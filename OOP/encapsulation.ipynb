{
 "cells": [
  {
   "cell_type": "code",
   "execution_count": 5,
   "id": "0ddda2eb",
   "metadata": {},
   "outputs": [],
   "source": [
    "## encapsulation with Getters and Setters\n",
    "\n",
    "class Person:\n",
    "    def __init__(self , name , age):\n",
    "        self.name = name # public variables\n",
    "        self.age = age # public variables\n"
   ]
  },
  {
   "cell_type": "code",
   "execution_count": 6,
   "id": "e8119674",
   "metadata": {},
   "outputs": [
    {
     "name": "stdout",
     "output_type": "stream",
     "text": [
      "Huzaifa is 24 years old\n"
     ]
    }
   ],
   "source": [
    "# public variables can be accessed anywhere outside \n",
    "\n",
    "person1 = Person(\"Huzaifa\" , 24)\n",
    "print(f\"{person1.name} is {person1.age} years old\")"
   ]
  },
  {
   "cell_type": "code",
   "execution_count": 7,
   "id": "c20dadc4",
   "metadata": {},
   "outputs": [
    {
     "name": "stdout",
     "output_type": "stream",
     "text": [
      "['__class__', '__delattr__', '__dict__', '__dir__', '__doc__', '__eq__', '__format__', '__ge__', '__getattribute__', '__gt__', '__hash__', '__init__', '__init_subclass__', '__le__', '__lt__', '__module__', '__ne__', '__new__', '__reduce__', '__reduce_ex__', '__repr__', '__setattr__', '__sizeof__', '__str__', '__subclasshook__', '__weakref__', 'age', 'name']\n"
     ]
    }
   ],
   "source": [
    "print(dir(person1))"
   ]
  },
  {
   "cell_type": "code",
   "execution_count": null,
   "id": "48715994",
   "metadata": {},
   "outputs": [],
   "source": [
    "class Person:\n",
    "    def __init__(self, name, age, gender):\n",
    "        self.__name = name      # Private variable(double underscore)\n",
    "        self.__age = age        # Private variable\n",
    "        self.gender = gender    # Public variable"
   ]
  },
  {
   "cell_type": "markdown",
   "id": "02185c15",
   "metadata": {},
   "source": [
    "Name Mangling for Private Variables\n",
    "Private variables are not directly visible. Instead, they appear with a name-mangled format in the object's directory, such as _Person__age."
   ]
  },
  {
   "cell_type": "code",
   "execution_count": 11,
   "id": "1c132e7b",
   "metadata": {},
   "outputs": [
    {
     "name": "stdout",
     "output_type": "stream",
     "text": [
      "Krish\n"
     ]
    }
   ],
   "source": [
    "person = Person('Krish', 34, 'Male')\n",
    "print(person._Person__name) # not recommended"
   ]
  },
  {
   "cell_type": "markdown",
   "id": "46ba2a19",
   "metadata": {},
   "source": [
    "Protected Variables\n",
    "\n",
    "Protected variables are defined by prefixing the variable name with a single underscore (_). These variables can be accessed within the class and by derived classes, but not from outside."
   ]
  },
  {
   "cell_type": "code",
   "execution_count": 12,
   "id": "7009922a",
   "metadata": {},
   "outputs": [],
   "source": [
    "class Person:\n",
    "    def __init__(self, name, age, gender):\n",
    "        self._name = name      # Protected variable\n",
    "        self._age = age        # Protected variable\n",
    "        self.gender = gender   # Public variable"
   ]
  },
  {
   "cell_type": "code",
   "execution_count": 13,
   "id": "62c90e8f",
   "metadata": {},
   "outputs": [],
   "source": [
    "class Employee(Person):\n",
    "    def __init__(self, name, age, gender):\n",
    "        super().__init__(name, age, gender)"
   ]
  },
  {
   "cell_type": "code",
   "execution_count": null,
   "id": "1dfdb4a7",
   "metadata": {},
   "outputs": [
    {
     "name": "stdout",
     "output_type": "stream",
     "text": [
      "Krish\n"
     ]
    }
   ],
   "source": [
    "employee = Employee('Krish', 34, 'Male')\n",
    "print(employee._name) "
   ]
  },
  {
   "cell_type": "markdown",
   "id": "7b824511",
   "metadata": {},
   "source": [
    "Encapsulation with Getter and Setter Methods\n",
    "\n",
    "Encapsulation is often implemented using getter and setter methods to access and modify private variables safely."
   ]
  },
  {
   "cell_type": "code",
   "execution_count": 15,
   "id": "f6bf8f2f",
   "metadata": {},
   "outputs": [],
   "source": [
    "class Person:\n",
    "    def __init__(self, name, age):\n",
    "        self.__name = name  # Private variable\n",
    "        self.__age = age    # Private variable\n",
    "\n",
    "    def get_name(self):\n",
    "        return self.__name  # Getter method for name\n",
    "\n",
    "    def set_name(self, name):\n",
    "        self.__name = name  # Setter method for name\n",
    "\n",
    "    def get_age(self):\n",
    "        return self.__age   # Getter method for age\n",
    "\n",
    "    def set_age(self, age):\n",
    "        if age > 0:\n",
    "            self.__age = age\n",
    "        else:\n",
    "            print('Age cannot be negative')"
   ]
  },
  {
   "cell_type": "code",
   "execution_count": 16,
   "id": "5a130d95",
   "metadata": {},
   "outputs": [
    {
     "name": "stdout",
     "output_type": "stream",
     "text": [
      "Huzaifa\n",
      "24\n",
      "35\n",
      "Age cannot be negative\n"
     ]
    }
   ],
   "source": [
    "person = Person('Huzaifa', 24)\n",
    "print(person.get_name())  \n",
    "print(person.get_age())   \n",
    "person.set_age(35)\n",
    "print(person.get_age())   \n",
    "person.set_age(-5)       "
   ]
  }
 ],
 "metadata": {
  "kernelspec": {
   "display_name": "myenv",
   "language": "python",
   "name": "python3"
  },
  "language_info": {
   "codemirror_mode": {
    "name": "ipython",
    "version": 3
   },
   "file_extension": ".py",
   "mimetype": "text/x-python",
   "name": "python",
   "nbconvert_exporter": "python",
   "pygments_lexer": "ipython3",
   "version": "3.10.18"
  }
 },
 "nbformat": 4,
 "nbformat_minor": 5
}
