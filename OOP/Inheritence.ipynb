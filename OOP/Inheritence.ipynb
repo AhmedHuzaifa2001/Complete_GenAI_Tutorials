{
 "cells": [
  {
   "cell_type": "code",
   "execution_count": 2,
   "id": "8b656735",
   "metadata": {},
   "outputs": [],
   "source": [
    "class Car:\n",
    "    def __init__(self , windows , doors , engineType):\n",
    "        self.windows = windows\n",
    "        self.doors = doors\n",
    "        self.engineType = engineType\n",
    "\n",
    "    def drive(self):\n",
    "        print(f\"The person will drive the {self.engineType} car\")"
   ]
  },
  {
   "cell_type": "code",
   "execution_count": 3,
   "id": "6b96480d",
   "metadata": {},
   "outputs": [
    {
     "name": "stdout",
     "output_type": "stream",
     "text": [
      "The person will drive the petrol car\n"
     ]
    }
   ],
   "source": [
    "audi = Car(5 , 4 , \"petrol\")\n",
    "\n",
    "audi.drive()"
   ]
  },
  {
   "cell_type": "code",
   "execution_count": 4,
   "id": "2d6c3e9d",
   "metadata": {},
   "outputs": [],
   "source": [
    "class Tesla(Car):\n",
    "    def __init__(self, windows, doors, engineType , isSelfDriving):\n",
    "        super().__init__(windows, doors, engineType)\n",
    "        self.isSelfDriving = isSelfDriving\n",
    "\n",
    "\n",
    "    def selfDriving(self):\n",
    "        print(f\"Tesla supports self Driving : {self.isSelfDriving} \")"
   ]
  },
  {
   "cell_type": "code",
   "execution_count": 6,
   "id": "4ea6af86",
   "metadata": {},
   "outputs": [
    {
     "name": "stdout",
     "output_type": "stream",
     "text": [
      "Tesla supports self Driving : True \n"
     ]
    }
   ],
   "source": [
    "tesla1 = Tesla(5 , 4 , \"Electric\" , True)\n",
    "tesla1.selfDriving()"
   ]
  },
  {
   "cell_type": "code",
   "execution_count": 7,
   "id": "e6206969",
   "metadata": {},
   "outputs": [],
   "source": [
    "# Multiple Inheritence\n",
    "\n",
    "class Animal:\n",
    "    def __init__(self , name):\n",
    "        self.name = name\n",
    "\n",
    "    def speak(self):\n",
    "        print(f\"Subclass must implement this method\")"
   ]
  },
  {
   "cell_type": "code",
   "execution_count": 8,
   "id": "7fcc81f8",
   "metadata": {},
   "outputs": [],
   "source": [
    "class Pet:\n",
    "    def __init__(self , owner):\n",
    "        self.owner = owner"
   ]
  },
  {
   "cell_type": "code",
   "execution_count": 16,
   "id": "b0d7f024",
   "metadata": {},
   "outputs": [],
   "source": [
    "class Cat(Animal , Pet):\n",
    "    def __init__(self, name , owner):\n",
    "        \n",
    "        Animal.__init__(self , name)\n",
    "        Pet.__init__(self , owner)\n",
    "\n",
    "    def speak(self):\n",
    "        return f\"{self.name} says meow!\""
   ]
  },
  {
   "cell_type": "code",
   "execution_count": 17,
   "id": "1b2db79a",
   "metadata": {},
   "outputs": [
    {
     "name": "stdout",
     "output_type": "stream",
     "text": [
      "kitty says meow!\n"
     ]
    }
   ],
   "source": [
    "cat1 = Cat(\"kitty\" , \"Krish\")\n",
    "\n",
    "print(cat1.speak())"
   ]
  }
 ],
 "metadata": {
  "kernelspec": {
   "display_name": "myenv",
   "language": "python",
   "name": "python3"
  },
  "language_info": {
   "codemirror_mode": {
    "name": "ipython",
    "version": 3
   },
   "file_extension": ".py",
   "mimetype": "text/x-python",
   "name": "python",
   "nbconvert_exporter": "python",
   "pygments_lexer": "ipython3",
   "version": "3.10.18"
  }
 },
 "nbformat": 4,
 "nbformat_minor": 5
}
