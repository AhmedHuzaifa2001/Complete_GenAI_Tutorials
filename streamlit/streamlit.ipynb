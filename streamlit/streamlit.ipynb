{
 "cells": [
  {
   "cell_type": "markdown",
   "id": "cffee541",
   "metadata": {},
   "source": [
    "Introduction to Streamlit\n",
    "\n",
    "Streamlit is an open-source app framework for machine learning and data science projects. It allows you to create beautiful web applications for your machine learning and data science projects using Python scripts. You do not need to know HTML or CSS; by using the components of Streamlit, you can create beautiful web pages."
   ]
  },
  {
   "cell_type": "code",
   "execution_count": null,
   "id": "da2b9444",
   "metadata": {},
   "outputs": [],
   "source": []
  }
 ],
 "metadata": {
  "kernelspec": {
   "display_name": "myenv",
   "language": "python",
   "name": "python3"
  },
  "language_info": {
   "name": "python",
   "version": "3.10.18"
  }
 },
 "nbformat": 4,
 "nbformat_minor": 5
}
