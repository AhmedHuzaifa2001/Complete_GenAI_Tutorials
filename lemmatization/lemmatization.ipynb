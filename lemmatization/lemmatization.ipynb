{
 "cells": [
  {
   "cell_type": "markdown",
   "id": "2799079d",
   "metadata": {},
   "source": [
    "## What is Lemmatization?\n",
    "Lemmatization is a technique similar to stemming, but it aims to produce the exact root word, called a lemma, which is a valid word. For example:\n",
    "\n",
    "\"eating\" becomes \"eat\"\n",
    "\"history\" remains \"history\"\n",
    "\"goes\" becomes \"go\""
   ]
  },
  {
   "cell_type": "code",
   "execution_count": 5,
   "id": "ebf405e9",
   "metadata": {},
   "outputs": [
    {
     "name": "stderr",
     "output_type": "stream",
     "text": [
      "[nltk_data] Downloading package wordnet to\n",
      "[nltk_data]     C:\\Users\\User\\AppData\\Roaming\\nltk_data...\n",
      "[nltk_data]   Package wordnet is already up-to-date!\n"
     ]
    },
    {
     "data": {
      "text/plain": [
       "True"
      ]
     },
     "execution_count": 5,
     "metadata": {},
     "output_type": "execute_result"
    }
   ],
   "source": [
    "import nltk\n",
    "from nltk.stem import WordNetLemmatizer\n",
    "nltk.download('wordnet')"
   ]
  },
  {
   "cell_type": "code",
   "execution_count": 6,
   "id": "7ebefadd",
   "metadata": {},
   "outputs": [],
   "source": [
    "lemmatizer = WordNetLemmatizer()"
   ]
  },
  {
   "cell_type": "markdown",
   "id": "5ae0867a",
   "metadata": {},
   "source": [
    "## Using the Lemmatizer\n",
    "The lemmatize function takes two important parameters: the word and the part-of-speech (POS) tag. By default, the POS tag is set to 'n' for noun.\n",
    "\n",
    "The POS tags used are:\n",
    "\n",
    "n for noun\n",
    "\n",
    "v for verb\n",
    "\n",
    "a for adjective\n",
    "\n",
    "r for adverb"
   ]
  },
  {
   "cell_type": "code",
   "execution_count": 12,
   "id": "780f0a22",
   "metadata": {},
   "outputs": [
    {
     "data": {
      "text/plain": [
       "'go'"
      ]
     },
     "execution_count": 12,
     "metadata": {},
     "output_type": "execute_result"
    }
   ],
   "source": [
    "# \n",
    "lemmatizer.lemmatize(\"going\" , pos = \"v\")"
   ]
  },
  {
   "cell_type": "code",
   "execution_count": 13,
   "id": "f0d506d9",
   "metadata": {},
   "outputs": [],
   "source": [
    "words = ['eating', 'eats', 'eaten', 'writing', 'writes', 'written', 'programming', 'programs', 'history']"
   ]
  },
  {
   "cell_type": "code",
   "execution_count": 18,
   "id": "71321625",
   "metadata": {},
   "outputs": [
    {
     "name": "stdout",
     "output_type": "stream",
     "text": [
      "eating------>eating\n",
      "eats------>eats\n",
      "eaten------>eaten\n",
      "writing------>writing\n",
      "writes------>writes\n",
      "written------>written\n",
      "programming------>programming\n",
      "programs------>programs\n",
      "history------>history\n"
     ]
    }
   ],
   "source": [
    "for word in words:\n",
    "    print(word + \"------>\" + lemmatizer.lemmatize(word , pos = \"r\"))"
   ]
  },
  {
   "cell_type": "code",
   "execution_count": 19,
   "id": "0609f676",
   "metadata": {},
   "outputs": [
    {
     "data": {
      "text/plain": [
       "('fairly', 'sportingly')"
      ]
     },
     "execution_count": 19,
     "metadata": {},
     "output_type": "execute_result"
    }
   ],
   "source": [
    "lemmatizer.lemmatize(\"fairly\") , lemmatizer.lemmatize(\"sportingly\")"
   ]
  }
 ],
 "metadata": {
  "kernelspec": {
   "display_name": "myenv",
   "language": "python",
   "name": "python3"
  },
  "language_info": {
   "codemirror_mode": {
    "name": "ipython",
    "version": 3
   },
   "file_extension": ".py",
   "mimetype": "text/x-python",
   "name": "python",
   "nbconvert_exporter": "python",
   "pygments_lexer": "ipython3",
   "version": "3.10.18"
  }
 },
 "nbformat": 4,
 "nbformat_minor": 5
}
